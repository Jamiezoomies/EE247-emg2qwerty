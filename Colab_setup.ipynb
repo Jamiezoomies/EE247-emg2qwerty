{
 "cells": [
  {
   "cell_type": "markdown",
   "metadata": {
    "id": "IvxJOJu4XUIW"
   },
   "source": [
    "### Step 1: Mount the Google Drive\n",
    "\n",
    "Remember to use GPU runtime before mounting your account. (Runtime --> Change runtime type)."
   ]
  },
  {
   "cell_type": "markdown",
   "metadata": {
    "id": "FyoSL1U8Xbjh"
   },
   "source": [
    "### Step 2: Open the project directory\n",
    "\n",
    "Replace `Your_Dir` with your own path."
   ]
  },
  {
   "cell_type": "code",
   "execution_count": 12,
   "metadata": {
    "colab": {
     "base_uri": "https://localhost:8080/"
    },
    "executionInfo": {
     "elapsed": 45,
     "status": "ok",
     "timestamp": 1741077597845,
     "user": {
      "displayName": "TAE HWAN KIM",
      "userId": "07658303997808766110"
     },
     "user_tz": 480
    },
    "id": "-gfQ17SmkfOK",
    "outputId": "201673c9-ebf6-4168-8504-d990f52b3abc"
   },
   "outputs": [
    {
     "name": "stdout",
     "output_type": "stream",
     "text": [
      "[Errno 2] No such file or directory: 'drive/MyDrive/projects/emg2qwerty-main'\n",
      "/content\n"
     ]
    }
   ],
   "source": [
    "cd drive/MyDrive/projects/emg2qwerty-main"
   ]
  },
  {
   "cell_type": "markdown",
   "metadata": {
    "id": "eTzYfAOEYN4C"
   },
   "source": [
    "### Step 3: Install required packages\n",
    "\n",
    "After installing them, Colab will require you to restart the session."
   ]
  },
  {
   "cell_type": "code",
   "execution_count": 6,
   "metadata": {
    "colab": {
     "base_uri": "https://localhost:8080/",
     "height": 1000
    },
    "executionInfo": {
     "elapsed": 428212,
     "status": "ok",
     "timestamp": 1740944066791,
     "user": {
      "displayName": "TAE HWAN KIM",
      "userId": "07658303997808766110"
     },
     "user_tz": 480
    },
    "id": "HFFKvhs4tAp5",
    "outputId": "3a32290e-5c6a-4728-8638-04934522bcac"
   },
   "outputs": [
    {
     "name": "stdout",
     "output_type": "stream",
     "text": [
      "Defaulting to user installation because normal site-packages is not writeable\n",
      "Collecting git+https://github.com/stepanhruda/camel-kenlm.git@a6e906b2b30497dd999cb9c84c42c5111f8616e0 (from -r requirements.txt (line 31))\n",
      "  Cloning https://github.com/stepanhruda/camel-kenlm.git (to revision a6e906b2b30497dd999cb9c84c42c5111f8616e0) to c:\\users\\brado\\appdata\\local\\temp\\pip-req-build-a9lrgif8\n"
     ]
    },
    {
     "name": "stderr",
     "output_type": "stream",
     "text": [
      "  ERROR: Error [WinError 2] The system cannot find the file specified while executing command git version\n",
      "ERROR: Cannot find command 'git' - do you have 'git' installed and in your PATH?\n"
     ]
    }
   ],
   "source": [
    "!pip install -r requirements.txt"
   ]
  },
  {
   "cell_type": "markdown",
   "metadata": {
    "id": "nSoRzGXCfUtz"
   },
   "source": [
    "### Step 4: Start your experiments!\n",
    "\n",
    "- Remember to download the dataset here: `Your_Dir/emg2qwerty-main/data`.\n",
    "- You may now start your experiments with any scripts.\n",
    "- Below is an example of single-user training."
   ]
  },
  {
   "cell_type": "code",
   "execution_count": null,
   "metadata": {
    "colab": {
     "base_uri": "https://localhost:8080/"
    },
    "executionInfo": {
     "elapsed": 121,
     "status": "ok",
     "timestamp": 1740945679946,
     "user": {
      "displayName": "TAE HWAN KIM",
      "userId": "07658303997808766110"
     },
     "user_tz": 480
    },
    "id": "tKZrcc_oFPq_",
    "outputId": "9dcd41c8-a83f-4364-f329-d1888c378547"
   },
   "outputs": [
    {
     "name": "stdout",
     "output_type": "stream",
     "text": [
      "Sun Mar  2 20:01:19 2025       \n",
      "+-----------------------------------------------------------------------------------------+\n",
      "| NVIDIA-SMI 550.54.15              Driver Version: 550.54.15      CUDA Version: 12.4     |\n",
      "|-----------------------------------------+------------------------+----------------------+\n",
      "| GPU  Name                 Persistence-M | Bus-Id          Disp.A | Volatile Uncorr. ECC |\n",
      "| Fan  Temp   Perf          Pwr:Usage/Cap |           Memory-Usage | GPU-Util  Compute M. |\n",
      "|                                         |                        |               MIG M. |\n",
      "|=========================================+========================+======================|\n",
      "|   0  Tesla T4                       Off |   00000000:00:04.0 Off |                    0 |\n",
      "| N/A   54C    P8             12W /   70W |       0MiB /  15360MiB |      0%      Default |\n",
      "|                                         |                        |                  N/A |\n",
      "+-----------------------------------------+------------------------+----------------------+\n",
      "                                                                                         \n",
      "+-----------------------------------------------------------------------------------------+\n",
      "| Processes:                                                                              |\n",
      "|  GPU   GI   CI        PID   Type   Process name                              GPU Memory |\n",
      "|        ID   ID                                                               Usage      |\n",
      "|=========================================================================================|\n",
      "|  No running processes found                                                             |\n",
      "+-----------------------------------------------------------------------------------------+\n"
     ]
    }
   ],
   "source": [
    "!nvidia-smi"
   ]
  },
  {
   "cell_type": "code",
   "execution_count": null,
   "metadata": {
    "colab": {
     "base_uri": "https://localhost:8080/"
    },
    "executionInfo": {
     "elapsed": 117,
     "status": "ok",
     "timestamp": 1740945681843,
     "user": {
      "displayName": "TAE HWAN KIM",
      "userId": "07658303997808766110"
     },
     "user_tz": 480
    },
    "id": "n84M6KLmkp2i",
    "outputId": "d869c542-d2b8-4f98-8e7d-0ee5eba78858"
   },
   "outputs": [
    {
     "name": "stdout",
     "output_type": "stream",
     "text": [
      "/usr/bin/python3: Error while finding module specification for 'emg2qwerty.train' (ModuleNotFoundError: No module named 'emg2qwerty')\n"
     ]
    }
   ],
   "source": [
    "!python -m emg2qwerty.train \\\n",
    "  user=\"glob(single_user)\" \\\n",
    "  trainer.accelerator=gpu trainer.devices=1 \\\n",
    "  trainer.max_epochs=10 \\\n",
    "  --multirun\n"
   ]
  }
 ],
 "metadata": {
  "accelerator": "GPU",
  "colab": {
   "gpuType": "T4",
   "provenance": []
  },
  "kernelspec": {
   "display_name": "Python 3",
   "name": "python3"
  },
  "language_info": {
   "codemirror_mode": {
    "name": "ipython",
    "version": 3
   },
   "file_extension": ".py",
   "mimetype": "text/x-python",
   "name": "python",
   "nbconvert_exporter": "python",
   "pygments_lexer": "ipython3",
   "version": "3.13.2"
  }
 },
 "nbformat": 4,
 "nbformat_minor": 0
}
